{
 "cells": [
  {
   "cell_type": "markdown",
   "metadata": {},
   "source": [
    "### Save and Load Models"
   ]
  },
  {
   "cell_type": "code",
   "execution_count": 2,
   "metadata": {},
   "outputs": [],
   "source": [
    "import torch\n",
    "import torch.nn as nn"
   ]
  },
  {
   "cell_type": "code",
   "execution_count": null,
   "metadata": {},
   "outputs": [],
   "source": [
    "# methods: \n",
    "# saving the model\n",
    "torch.save(args, PATH) # saving any dictionary with this model, the result is serialized not human readable.\n",
    "# loading the model\n",
    "model = torch.load(PATH)\n",
    "model.eval()\n",
    "\n",
    "#### STATE DICT ####\n",
    "# saving the model with the parameters \n",
    "\n",
    "torch.save(model.state_dict(), PATH)\n",
    "# model must be created again with parameters \n",
    "\n",
    "model = Model(*args, **kwargs) # create model object\n",
    "model.load_state_dict(torch.load(PATH))\n",
    "model.eval()"
   ]
  },
  {
   "cell_type": "code",
   "execution_count": 5,
   "metadata": {},
   "outputs": [
    {
     "name": "stdout",
     "output_type": "stream",
     "text": [
      "Parameter containing:\n",
      "tensor([[ 0.0110, -0.1258, -0.1658, -0.1280,  0.2966, -0.2569]],\n",
      "       requires_grad=True)\n",
      "Parameter containing:\n",
      "tensor([0.3263], requires_grad=True)\n"
     ]
    }
   ],
   "source": [
    "# creating a model class \n",
    "class Model(nn.Module):\n",
    "    def __init__(self, n_input_features):\n",
    "        super(Model, self).__init__()\n",
    "        self.linear = nn.Linear(n_input_features, 1)\n",
    "    def forward(self, x):\n",
    "        y_pred = torch.sigmoid(self.linear(x))\n",
    "        return y_pred\n",
    "    \n",
    "# create model\n",
    "model = Model(n_input_features=6)\n",
    "\n",
    "# training \n",
    "# lazy model saving/loading \n",
    "FILE = 'model.pth'\n",
    "#torch.save(model, FILE)\n",
    "\n",
    "# load model \n",
    "model = torch.load(FILE)\n",
    "#set it for validation\n",
    "\n",
    "model.eval()\n",
    "\n",
    "# inspect the params \n",
    "\n",
    "for params in model.parameters():\n",
    "    print(params)"
   ]
  },
  {
   "cell_type": "code",
   "execution_count": 9,
   "metadata": {},
   "outputs": [
    {
     "data": {
      "text/plain": [
       "Model(\n",
       "  (linear): Linear(in_features=6, out_features=1, bias=True)\n",
       ")"
      ]
     },
     "execution_count": 9,
     "metadata": {},
     "output_type": "execute_result"
    }
   ],
   "source": [
    "# Prefered\n",
    "torch.save(model.state_dict(),FILE)\n",
    "# loading the model: we need first to define it\n",
    "\n",
    "loaded_model = Model(n_input_features=6)\n",
    "loaded_model.load_state_dict(torch.load(FILE))\n",
    "loaded_model.eval()"
   ]
  },
  {
   "cell_type": "code",
   "execution_count": 12,
   "metadata": {},
   "outputs": [
    {
     "name": "stdout",
     "output_type": "stream",
     "text": [
      "Parameter containing:\n",
      "tensor([[ 0.0110, -0.1258, -0.1658, -0.1280,  0.2966, -0.2569]],\n",
      "       requires_grad=True)\n",
      "Parameter containing:\n",
      "tensor([0.3263], requires_grad=True)\n"
     ]
    }
   ],
   "source": [
    "for params in loaded_model.parameters():\n",
    "    print(params)"
   ]
  },
  {
   "cell_type": "code",
   "execution_count": 13,
   "metadata": {},
   "outputs": [
    {
     "name": "stdout",
     "output_type": "stream",
     "text": [
      "OrderedDict([('linear.weight', tensor([[ 0.0110, -0.1258, -0.1658, -0.1280,  0.2966, -0.2569]])), ('linear.bias', tensor([0.3263]))])\n"
     ]
    }
   ],
   "source": [
    "print(model.state_dict())"
   ]
  },
  {
   "cell_type": "code",
   "execution_count": 14,
   "metadata": {},
   "outputs": [
    {
     "name": "stdout",
     "output_type": "stream",
     "text": [
      "OrderedDict([('linear.weight', tensor([[ 0.0110, -0.1258, -0.1658, -0.1280,  0.2966, -0.2569]])), ('linear.bias', tensor([0.3263]))])\n"
     ]
    }
   ],
   "source": [
    "print(loaded_model.state_dict())"
   ]
  },
  {
   "cell_type": "code",
   "execution_count": 15,
   "metadata": {},
   "outputs": [
    {
     "name": "stdout",
     "output_type": "stream",
     "text": [
      "{'state': {}, 'param_groups': [{'lr': 0.01, 'momentum': 0, 'dampening': 0, 'weight_decay': 0, 'nesterov': False, 'params': [4808609376, 4811200784]}]}\n"
     ]
    }
   ],
   "source": [
    "learning_rate = 0.01 \n",
    "optimizer = torch.optim.SGD(model.parameters(), lr=learning_rate)\n",
    "print(optimizer.state_dict())"
   ]
  },
  {
   "cell_type": "code",
   "execution_count": 16,
   "metadata": {},
   "outputs": [],
   "source": [
    "# Saving checkpoints \n",
    "\n",
    "checkpoint = {\n",
    "    'epoch': 90,\n",
    "    'model_state': model.state_dict(),\n",
    "    'optim_state': optimizer.state_dict()\n",
    "}\n",
    "\n",
    "torch.save(checkpoint, 'checkpoint.pth')"
   ]
  },
  {
   "cell_type": "code",
   "execution_count": 19,
   "metadata": {},
   "outputs": [
    {
     "name": "stdout",
     "output_type": "stream",
     "text": [
      "{'state': {}, 'param_groups': [{'lr': 0.01, 'momentum': 0, 'dampening': 0, 'weight_decay': 0, 'nesterov': False, 'params': [4813754928, 4835924640]}]}\n"
     ]
    }
   ],
   "source": [
    "# loading checkpoint\n",
    "\n",
    "loaded_checkpoint = torch.load('checkpoint.pth')\n",
    "epoch = loaded_checkpoint['epoch']\n",
    "\n",
    "# create the model object\n",
    "\n",
    "model_c = Model(n_input_features=6)\n",
    "optimizer = torch.optim.SGD(model_c.parameters(),lr=0)\n",
    "model_c.load_state_dict(checkpoint['model_state']) # load the parameters in the model \n",
    "optimizer.load_state_dict(checkpoint['optim_state']) # load the params\n",
    "\n",
    "print(optimizer.state_dict())\n",
    "# the trainig with continue from that point on .... "
   ]
  },
  {
   "cell_type": "code",
   "execution_count": null,
   "metadata": {},
   "outputs": [],
   "source": [
    "# if the saving device differece from the loading device, you need to specify map_location=device.\n",
    "# In case of saving on GPU and Loading on CPU \n",
    "# set device \n",
    "device = torch.device('cuda')\n",
    "model.to(device)\n",
    "# save the model \n",
    "torch.save(model.state_dict(),PATH)\n",
    "\n",
    "# loading ... \n",
    "device = torch.device('cpu')\n",
    "model = Model(*args, **kwargs)\n",
    "\n",
    "model.load_state_dict(torch.load(PATH, map_location=device)) # specify the map location, give it the cpu"
   ]
  }
 ],
 "metadata": {
  "kernelspec": {
   "display_name": "Python 3",
   "language": "python",
   "name": "python3"
  },
  "language_info": {
   "codemirror_mode": {
    "name": "ipython",
    "version": 3
   },
   "file_extension": ".py",
   "mimetype": "text/x-python",
   "name": "python",
   "nbconvert_exporter": "python",
   "pygments_lexer": "ipython3",
   "version": "3.7.7"
  }
 },
 "nbformat": 4,
 "nbformat_minor": 4
}
