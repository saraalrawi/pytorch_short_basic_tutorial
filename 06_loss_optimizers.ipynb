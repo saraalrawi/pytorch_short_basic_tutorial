{
 "cells": [
  {
   "cell_type": "markdown",
   "metadata": {},
   "source": [
    "### Training Pipline"
   ]
  },
  {
   "cell_type": "code",
   "execution_count": 3,
   "metadata": {},
   "outputs": [],
   "source": [
    "# Training Pipline: Model, Loss and Optimizer \n",
    "\n",
    "#1) Design the model (input, output size, forward pass) - \n",
    "#2) Construct the loss and optimizer \n",
    "#3) Training Loop \n",
    " # - forwardpass compute the prediction \n",
    " # - backwardpass: gradients\n",
    " # - update our weights"
   ]
  },
  {
   "cell_type": "code",
   "execution_count": 5,
   "metadata": {},
   "outputs": [
    {
     "name": "stdout",
     "output_type": "stream",
     "text": [
      "4 1\n"
     ]
    }
   ],
   "source": [
    "import torch \n",
    "import torch.nn as nn \n",
    "\n",
    "X = torch.tensor([[1] ,[2] ,[3],[4]], dtype=torch.float32)\n",
    "Y = torch.tensor([[2] ,[4] ,[6],[8]], dtype=torch.float32)\n",
    "\n",
    "n_samples, n_features = X.shape\n",
    "print(n_samples,n_features) # 4 input, 1 output\n",
    "\n",
    "input_size = n_features\n",
    "output_size = n_features\n",
    "\n",
    "X_test = torch.tensor([5], dtype=torch.float32)\n",
    "ww = torch.tensor(0.0 , dtype= torch.float32 , requires_grad=True) # gradient is required\n",
    "\n",
    "learning_rate = 0.01\n",
    "n_iters = 100 \n",
    "\n",
    "model = nn.Linear(input_size, output_size) # one layer model "
   ]
  },
  {
   "cell_type": "code",
   "execution_count": 6,
   "metadata": {},
   "outputs": [],
   "source": [
    "class LinearRegression(nn.Module):\n",
    "    def __init__(self, input_dim, output_dim):\n",
    "        super(LinearRegression,self).__init__()\n",
    "        # define layers \n",
    "        self.lin = nn.Linear(input_dim,output_dim)\n",
    "    def forward(self,x):\n",
    "        return self.lin(x)\n",
    "model = nn.Linear(input_size, output_size)"
   ]
  },
  {
   "cell_type": "code",
   "execution_count": 7,
   "metadata": {},
   "outputs": [],
   "source": [
    "# define loss and optimizer \n",
    "# no loss manually anymore \n",
    "loss = nn.MSELoss() # mean squared error \n",
    "optimizer = torch.optim.SGD(model.parameters(), lr=learning_rate)"
   ]
  },
  {
   "cell_type": "code",
   "execution_count": 8,
   "metadata": {},
   "outputs": [
    {
     "name": "stdout",
     "output_type": "stream",
     "text": [
      "epoch1: w= -0.335, loss = 53.76257324\n",
      "epoch11: w= 1.352, loss = 1.54198992\n",
      "epoch21: w= 1.631, loss = 0.18212809\n",
      "epoch31: w= 1.684, loss = 0.13866678\n",
      "epoch41: w= 1.700, loss = 0.12974535\n",
      "epoch51: w= 1.710, loss = 0.12217146\n",
      "epoch61: w= 1.719, loss = 0.11505994\n",
      "epoch71: w= 1.727, loss = 0.10836282\n",
      "epoch81: w= 1.735, loss = 0.10205555\n",
      "epoch91: w= 1.743, loss = 0.09611537\n",
      "Prediction after training f(5.0) = 9.484\n"
     ]
    }
   ],
   "source": [
    "# Ready to create the training loop: \n",
    "\n",
    "for epoch in range(n_iters):\n",
    "    # prediction = forwardpass \n",
    "    y_pred = model(X)\n",
    "    #loss\n",
    "    l = loss(Y,y_pred)\n",
    "    #gradients \n",
    "    #dw = gradient(X,Y,y_pred)\n",
    "    # calculates the gradient with respect to w\n",
    "    l.backward() # dl/dw\n",
    "    # update the formuls\n",
    "    optimizer.step()\n",
    "    # zero the gradients \n",
    "    optimizer.zero_grad()\n",
    "    if epoch % 10 == 0: \n",
    "        [ww,b] = model.parameters()\n",
    "        print('epoch{}: w= {:.3f}, loss = {:.8f}'.format(epoch+1,ww[0][0].item(),l))\n",
    "\n",
    "print('Prediction after training f({}) = {:.3f}'.format(X_test.item(),model(X_test).item()))"
   ]
  },
  {
   "cell_type": "code",
   "execution_count": null,
   "metadata": {},
   "outputs": [],
   "source": []
  }
 ],
 "metadata": {
  "kernelspec": {
   "display_name": "Python 3",
   "language": "python",
   "name": "python3"
  },
  "language_info": {
   "codemirror_mode": {
    "name": "ipython",
    "version": 3
   },
   "file_extension": ".py",
   "mimetype": "text/x-python",
   "name": "python",
   "nbconvert_exporter": "python",
   "pygments_lexer": "ipython3",
   "version": "3.7.7"
  }
 },
 "nbformat": 4,
 "nbformat_minor": 4
}
