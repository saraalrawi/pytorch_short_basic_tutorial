{
 "cells": [
  {
   "cell_type": "markdown",
   "metadata": {},
   "source": [
    "### Training a Feedforward Network"
   ]
  },
  {
   "cell_type": "code",
   "execution_count": 10,
   "metadata": {},
   "outputs": [],
   "source": [
    "# Steps:\n",
    "# MNIST\n",
    "# DataLoader, Transdormation\n",
    "# Multilayer NN, activation function\n",
    "# Loss Optimizer \n",
    "# Training Loop (Batch training)\n",
    "# Model Evaluation\n",
    "# GPU Support "
   ]
  },
  {
   "cell_type": "code",
   "execution_count": 1,
   "metadata": {},
   "outputs": [],
   "source": [
    "import torch \n",
    "import torch.nn as nn\n",
    "import torchvision \n",
    "import torchvision.transforms as transforms \n",
    "import matplotlib.pyplot as plt "
   ]
  },
  {
   "cell_type": "code",
   "execution_count": 5,
   "metadata": {},
   "outputs": [
    {
     "name": "stdout",
     "output_type": "stream",
     "text": [
      "torch.Size([100, 1, 28, 28]) torch.Size([100])\n"
     ]
    },
    {
     "data": {
      "image/png": "[encoded data removed]",
      "text/plain": [
       "<Figure size 432x288 with 6 Axes>"
      ]
     },
     "metadata": {
      "needs_background": "light"
     },
     "output_type": "display_data"
    }
   ],
   "source": [
    "# device config \n",
    "device = torch.device('cuda' if torch.cuda.is_available() else 'cpu')\n",
    "\n",
    "# hyper parameters \n",
    "\n",
    "input_size = 784 # 28 x 28 \n",
    "hidden_size = 100 \n",
    "num_classes = 10 \n",
    "num_epoch = 2 \n",
    "batch_size = 100 \n",
    "learning_rate = 0.001 \n",
    "\n",
    "#MNIST \n",
    "train_dataset = torchvision.datasets.MNIST(root = './data', train= True, transform= transforms.ToTensor(),download=True)\n",
    "\n",
    "test_dataset = torchvision.datasets.MNIST(root = './data', train= False, transform= transforms.ToTensor(),download=False)\n",
    "\n",
    "train_loader = torch.utils.data.DataLoader(dataset=train_dataset, batch_size=batch_size, shuffle=True)\n",
    "test_loader = torch.utils.data.DataLoader(dataset=test_dataset, batch_size=batch_size, shuffle=False)\n",
    "\n",
    "examples = iter(train_loader)\n",
    "\n",
    "samples, labels = examples.next()\n",
    "\n",
    "print(samples.shape, labels.shape)\n",
    "# 100 samples, 1 channle gray, images size 28 x 28 , labeles = 100 \n",
    "\n",
    "\n",
    "for i in range(6):\n",
    "    plt.subplot(2,3, i + 1 )\n",
    "    plt.imshow(samples[i][0], cmap= 'gray')\n",
    "#plt.show()"
   ]
  },
  {
   "cell_type": "code",
   "execution_count": 8,
   "metadata": {},
   "outputs": [
    {
     "name": "stdout",
     "output_type": "stream",
     "text": [
      "Epoch [1/2], Step [100/600], Loss: 0.5489\n",
      "Epoch [1/2], Step [200/600], Loss: 0.1709\n",
      "Epoch [1/2], Step [300/600], Loss: 0.2486\n",
      "Epoch [1/2], Step [400/600], Loss: 0.3552\n",
      "Epoch [1/2], Step [500/600], Loss: 0.4016\n",
      "Epoch [1/2], Step [600/600], Loss: 0.1264\n",
      "Epoch [2/2], Step [100/600], Loss: 0.2166\n",
      "Epoch [2/2], Step [200/600], Loss: 0.1392\n",
      "Epoch [2/2], Step [300/600], Loss: 0.2894\n",
      "Epoch [2/2], Step [400/600], Loss: 0.1682\n",
      "Epoch [2/2], Step [500/600], Loss: 0.0813\n",
      "Epoch [2/2], Step [600/600], Loss: 0.2154\n"
     ]
    }
   ],
   "source": [
    "class NeuralNet(nn.Module):\n",
    "    def __init__(self, input_size, hidden_size, num_classes):\n",
    "        super(NeuralNet, self).__init__()\n",
    "        self.l1 = nn.Linear(input_size, hidden_size)\n",
    "        self.relu= nn.ReLU()\n",
    "        self.l2 = nn.Linear(hidden_size,num_classes)\n",
    "    def forward(self,x):\n",
    "        out = self.l1(x)\n",
    "        out = self.relu(out)\n",
    "        out = self.l2(out)\n",
    "        return out \n",
    "# create the model \n",
    "model = NeuralNet(input_size, hidden_size, num_classes)\n",
    "\n",
    "# loss and optimizer \n",
    "\n",
    "criterion = nn.CrossEntropyLoss()\n",
    "\n",
    "# optimizer \n",
    "optimizer = torch.optim.Adam(model.parameters(), lr=learning_rate)\n",
    "\n",
    "# traininh loop \n",
    "# define the number of total steps \n",
    "\n",
    "num_total_steps = len(train_loader)\n",
    "\n",
    "for epoch in range(num_epoch):\n",
    "    for i, (images, labels) in enumerate(train_loader):\n",
    "        # 100 , 1 , 28 x 28 \n",
    "        # 100, 784\n",
    "        # first reshape the tensor \n",
    "        images = images.reshape(-1, 28*28).to(device)\n",
    "        labeles = labels.to(device)\n",
    "        # forward pass \n",
    "        outputs = model(images)\n",
    "        loss = criterion(outputs, labels)\n",
    "        \n",
    "        # backwards \n",
    "        optimizer.zero_grad()\n",
    "        loss.backward()\n",
    "        optimizer.step()\n",
    "        \n",
    "        if (i+1) % 100 == 0:\n",
    "            print (f'Epoch [{epoch+1}/{num_epoch}], Step [{i+1}/{num_total_steps}], Loss: {loss.item():.4f}')"
   ]
  },
  {
   "cell_type": "code",
   "execution_count": 9,
   "metadata": {},
   "outputs": [
    {
     "name": "stdout",
     "output_type": "stream",
     "text": [
      "Accuracy of the network on the 10000 test images: 95.35 %\n"
     ]
    }
   ],
   "source": [
    "# Evaluation \n",
    "with torch.no_grad():\n",
    "    n_correct = 0\n",
    "    n_samples = 0\n",
    "    for images, labels in test_loader:\n",
    "        images = images.reshape(-1, 28*28).to(device)\n",
    "        labels = labels.to(device)\n",
    "        outputs = model(images)\n",
    "        # max returns (value ,index)\n",
    "        _, predicted = torch.max(outputs.data, 1)\n",
    "        n_samples += labels.size(0)\n",
    "        n_correct += (predicted == labels).sum().item()\n",
    "\n",
    "    acc = 100.0 * n_correct / n_samples\n",
    "    print(f'Accuracy of the network on the 10000 test images: {acc} %')"
   ]
  }
 ],
 "metadata": {
  "kernelspec": {
   "display_name": "Python 3",
   "language": "python",
   "name": "python3"
  },
  "language_info": {
   "codemirror_mode": {
    "name": "ipython",
    "version": 3
   },
   "file_extension": ".py",
   "mimetype": "text/x-python",
   "name": "python",
   "nbconvert_exporter": "python",
   "pygments_lexer": "ipython3",
   "version": "3.7.7"
  }
 },
 "nbformat": 4,
 "nbformat_minor": 4
}
