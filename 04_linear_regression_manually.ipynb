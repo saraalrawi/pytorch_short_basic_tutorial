{
 "cells": [
  {
   "cell_type": "markdown",
   "metadata": {},
   "source": [
    "### Linear Regression and Backpropagation Manually"
   ]
  },
  {
   "cell_type": "markdown",
   "metadata": {},
   "source": [
    "The following cells are the manual implementation of linear regression."
   ]
  },
  {
   "cell_type": "code",
   "execution_count": 2,
   "metadata": {},
   "outputs": [],
   "source": [
    "import torch\n",
    "import numpy as np "
   ]
  },
  {
   "cell_type": "code",
   "execution_count": 3,
   "metadata": {},
   "outputs": [
    {
     "name": "stdout",
     "output_type": "stream",
     "text": [
      "Prediction before training f(5) = 0.000\n"
     ]
    }
   ],
   "source": [
    "\n",
    "# f = 2 * x (w = 2 )\n",
    "X = np.array([1 ,2 ,3,4], dtype=np.float32)\n",
    "Y = np.array([2, 4, 6, 8], dtype=np.float32)\n",
    "w = 0.0 \n",
    "\n",
    "# model prediction \n",
    "def forward(x):\n",
    "    return w * x \n",
    "\n",
    "# compute loss = MSE \n",
    "def loss(y, y_predicted):\n",
    "    return ((y_predicted - y)**2).mean()\n",
    "\n",
    "# gradient is the derivative of the loss function\n",
    "# MSE = 1/N * (w*x - y)**2\n",
    "# dj/dx = 1/N 2 x(w*x - y )\n",
    "\n",
    "def gradient(x, y, y_predicted):\n",
    "    return np.dot(2*x,y_predicted - y).mean()\n",
    "\n",
    "print('Prediction before training f(5) = {:.3f}'.format(forward(5)))"
   ]
  },
  {
   "cell_type": "code",
   "execution_count": 4,
   "metadata": {},
   "outputs": [
    {
     "name": "stdout",
     "output_type": "stream",
     "text": [
      "epoch1: w= 1.200, loss = 30.00000000\n",
      "epoch2: w= 1.680, loss = 4.79999924\n",
      "epoch3: w= 1.872, loss = 0.76800019\n",
      "epoch4: w= 1.949, loss = 0.12288000\n",
      "epoch5: w= 1.980, loss = 0.01966083\n",
      "epoch6: w= 1.992, loss = 0.00314570\n",
      "epoch7: w= 1.997, loss = 0.00050332\n",
      "epoch8: w= 1.999, loss = 0.00008053\n",
      "epoch9: w= 1.999, loss = 0.00001288\n",
      "epoch10: w= 2.000, loss = 0.00000206\n",
      "Prediction after training f(5) = 9.999\n"
     ]
    }
   ],
   "source": [
    "# start training \n",
    "# learning rate \n",
    "lr = 0.01\n",
    "n_iters = 10 \n",
    "\n",
    "for epoch in range(n_iters):\n",
    "    # prediction  forwardpass \n",
    "    y_pred = forward(X)\n",
    "    #loss\n",
    "    l = loss(Y,y_pred)\n",
    "    #gradients \n",
    "    dw = gradient(X,Y,y_pred)\n",
    "    # update the formuls\n",
    "    w -= lr * dw \n",
    "    if epoch % 1 == 0: \n",
    "        print('epoch{}: w= {:.3f}, loss = {:.8f}'.format(epoch+1,w,l))\n",
    "print('Prediction after training f(5) = {:.3f}'.format(forward(5)))"
   ]
  },
  {
   "cell_type": "code",
   "execution_count": null,
   "metadata": {},
   "outputs": [],
   "source": []
  }
 ],
 "metadata": {
  "kernelspec": {
   "display_name": "Python 3",
   "language": "python",
   "name": "python3"
  },
  "language_info": {
   "codemirror_mode": {
    "name": "ipython",
    "version": 3
   },
   "file_extension": ".py",
   "mimetype": "text/x-python",
   "name": "python",
   "nbconvert_exporter": "python",
   "pygments_lexer": "ipython3",
   "version": "3.7.7"
  }
 },
 "nbformat": 4,
 "nbformat_minor": 4
}
