{
 "cells": [
  {
   "cell_type": "markdown",
   "metadata": {},
   "source": [
    "### Autograd Package "
   ]
  },
  {
   "cell_type": "markdown",
   "metadata": {},
   "source": [
    "The autograd package provides automatic differentiation for all operations on Tensors"
   ]
  },
  {
   "cell_type": "code",
   "execution_count": 1,
   "metadata": {},
   "outputs": [],
   "source": [
    "import torch"
   ]
  },
  {
   "cell_type": "code",
   "execution_count": 2,
   "metadata": {},
   "outputs": [
    {
     "name": "stdout",
     "output_type": "stream",
     "text": [
      "tensor([ 1.1896, -0.2289,  0.0616], requires_grad=True)\n"
     ]
    }
   ],
   "source": [
    "x = torch.randn(3,requires_grad=True)\n",
    "print(x)"
   ]
  },
  {
   "cell_type": "code",
   "execution_count": 3,
   "metadata": {},
   "outputs": [
    {
     "name": "stdout",
     "output_type": "stream",
     "text": [
      "tensor([2.1896, 0.7711, 1.0616], grad_fn=<AddBackward0>)\n",
      "tensor([9.5885, 1.1892, 2.2540], grad_fn=<MulBackward0>)\n",
      "tensor(4.3439, grad_fn=<MeanBackward0>)\n",
      "tensor([2.9194, 1.0281, 1.4155])\n"
     ]
    }
   ],
   "source": [
    "# calculate the gradient of a function with respect to x \n",
    "# by specifying the requires_grad=True, whenever we do an operation with x, pytorch creates a 'computational graph' \n",
    "# foraward pass\n",
    "y = x + 1 # graph created node is addition, input x and 2, output y \n",
    "# y found ---> grad_fn function ---> Add backward dy/dx\n",
    "print(y)\n",
    "c = y * y * 2 \n",
    "print(c)\n",
    "v = torch.tensor([0.1,1.0,0.001], dtype=torch.float32)\n",
    "c = c.mean()\n",
    "print(c)\n",
    "c.backward()# calculated dc/dx\n",
    "#c.backward(v)\n",
    "print(x.grad) # runtiime error if requires_grad=False"
   ]
  },
  {
   "cell_type": "code",
   "execution_count": 4,
   "metadata": {},
   "outputs": [
    {
     "name": "stdout",
     "output_type": "stream",
     "text": [
      "tensor([ 1.1896, -0.2289,  0.0616])\n",
      "tensor([ 1.1896, -0.2289,  0.0616])\n",
      "tensor([3.1896, 1.7711, 2.0616])\n"
     ]
    }
   ],
   "source": [
    "# prevent pytorch from tracking the history \n",
    "# updating the weights in the training loop should not be part of the gradient operation. \n",
    "# options: \n",
    "# x.requires_grad(false)\n",
    "# x.detach()\n",
    "# with.torch_no_grad()\n",
    "\n",
    "x.requires_grad_(False)\n",
    "print(x) # No require grad attribute. In place modification.\n",
    "y = x.detach() # new tensor with the same values but not grad requires \n",
    "print(y)\n",
    "with torch.no_grad(): \n",
    "        y = x + 2 \n",
    "        print(y)\n",
    "#########################################################################"
   ]
  },
  {
   "cell_type": "code",
   "execution_count": 5,
   "metadata": {},
   "outputs": [
    {
     "name": "stdout",
     "output_type": "stream",
     "text": [
      "tensor([3., 3., 3., 3.])\n",
      "tensor([3., 3., 3., 3.])\n",
      "tensor([3., 3., 3., 3.])\n",
      "tensor([3., 3., 3., 3.])\n"
     ]
    }
   ],
   "source": [
    "# Dummy example \n",
    "weights = torch.ones(4, requires_grad=True)\n",
    "for epoch in range(4):\n",
    "    model_output =  (weights * 3).sum()\n",
    "    model_output.backward() # calculates the gradient\n",
    "    print(weights.grad) # print the grad of the weights\n",
    "     # set the grads to zeros otherwise the grad accumulates and will be wrong.\n",
    "    weights.grad.zero_() # before the next step in the optimization step "
   ]
  },
  {
   "cell_type": "code",
   "execution_count": 13,
   "metadata": {},
   "outputs": [
    {
     "name": "stdout",
     "output_type": "stream",
     "text": [
      "tensor([-156.9311, 2464.8921,  800.6077], grad_fn=<MulBackward0>)\n",
      "torch.Size([3])\n",
      "tensor([2.0480e+02, 2.0480e+03, 2.0480e-01])\n",
      "For tensor a: False\n",
      "grad_fn called on b tensor: None\n",
      "in place requires_grad: True\n",
      "No none value anymore on tensor b: <SumBackward0 object at 0x1233f9a10>\n",
      "True\n",
      "detached tensor from grad requires no grad: False\n",
      "True\n",
      "False\n"
     ]
    }
   ],
   "source": [
    "# Taken From: the repo below, a highly recommended tutorial\n",
    "# https://github.com/python-engineer/pytorchTutorial/blob/master/03_autograd.py \n",
    "\n",
    "# -------------\n",
    "# Model with non-scalar output:\n",
    "# If a Tensor is non-scalar (more than 1 elements), we need to specify arguments for backward() \n",
    "# specify a gradient argument that is a tensor of matching shape.\n",
    "# needed for vector-Jacobian product\n",
    "\n",
    "x = torch.randn(3, requires_grad=True)\n",
    "\n",
    "y = x * 2\n",
    "for _ in range(10):\n",
    "    y = y * 2\n",
    "\n",
    "print(y)\n",
    "print(y.shape)\n",
    "\n",
    "v = torch.tensor([0.1, 1.0, 0.0001], dtype=torch.float32)\n",
    "y.backward(v)\n",
    "print(x.grad)\n",
    "\n",
    "# -------------\n",
    "# Stop a tensor from tracking history:\n",
    "# For example during our training loop when we want to update our weights\n",
    "# then this update operation should not be part of the gradient computation\n",
    "# - x.requires_grad_(False)\n",
    "# - x.detach()\n",
    "# - wrap in 'with torch.no_grad():'\n",
    "\n",
    "# .requires_grad_(...) changes an existing flag in-place.\n",
    "a = torch.randn(2, 2)\n",
    "print('For tensor a:' , a.requires_grad)\n",
    "b = ((a * 3) / (a - 1))\n",
    "print('grad_fn called on b tensor:' ,b.grad_fn)\n",
    "a.requires_grad_(True)\n",
    "print('in place requires_grad:', a.requires_grad)\n",
    "b = (a * a).sum()\n",
    "print('No none value anymore on tensor b:',b.grad_fn)\n",
    "\n",
    "# .detach(): get a new Tensor with the same content but no gradient computation:\n",
    "a = torch.randn(2, 2, requires_grad=True)\n",
    "print(a.requires_grad)\n",
    "b = a.detach()\n",
    "print('detached tensor from grad requires no grad:' , b.requires_grad)\n",
    "\n",
    "# wrap in 'with torch.no_grad():'\n",
    "a = torch.randn(2, 2, requires_grad=True)\n",
    "print(a.requires_grad)\n",
    "with torch.no_grad():\n",
    "    print((x ** 2).requires_grad)\n",
    "\n",
    "# -------------"
   ]
  },
  {
   "cell_type": "code",
   "execution_count": 16,
   "metadata": {},
   "outputs": [
    {
     "name": "stdout",
     "output_type": "stream",
     "text": [
      "tensor([3., 3., 3., 3.])\n",
      "tensor([3., 3., 3., 3.])\n",
      "tensor([3., 3., 3., 3.])\n",
      "tensor([0.1000, 0.1000, 0.1000, 0.1000], requires_grad=True)\n",
      "tensor(4.8000, grad_fn=<SumBackward0>)\n"
     ]
    }
   ],
   "source": [
    "# Taken From: the repo below, a highly recommended tutorial\n",
    "# https://github.com/python-engineer/pytorchTutorial/blob/master/03_autograd.py \n",
    "\n",
    "# -------------\n",
    "# backward() accumulates the gradient for this tensor into .grad attribute.\n",
    "# !!! We need to be careful during optimization !!!\n",
    "# Use .zero_() to empty the gradients before a new optimization step!\n",
    "weights = torch.ones(4, requires_grad=True)\n",
    "\n",
    "for epoch in range(3):\n",
    "    # just a dummy example\n",
    "    model_output = (weights*3).sum()\n",
    "    model_output.backward()\n",
    "    \n",
    "    print(weights.grad)\n",
    "\n",
    "    # optimize model, i.e. adjust weights...\n",
    "    with torch.no_grad():\n",
    "        weights -= 0.1 * weights.grad\n",
    "\n",
    "    # this is important! It affects the final weights & output\n",
    "    weights.grad.zero_()\n",
    "\n",
    "print(weights)\n",
    "print(model_output)\n",
    "\n",
    "# Optimizer has zero_grad() method\n",
    "# optimizer = torch.optim.SGD([weights], lr=0.1)\n",
    "# During training:\n",
    "# optimizer.step()\n",
    "# optimizer.zero_grad()"
   ]
  },
  {
   "cell_type": "code",
   "execution_count": null,
   "metadata": {},
   "outputs": [],
   "source": []
  }
 ],
 "metadata": {
  "kernelspec": {
   "display_name": "Python 3",
   "language": "python",
   "name": "python3"
  },
  "language_info": {
   "codemirror_mode": {
    "name": "ipython",
    "version": 3
   },
   "file_extension": ".py",
   "mimetype": "text/x-python",
   "name": "python",
   "nbconvert_exporter": "python",
   "pygments_lexer": "ipython3",
   "version": "3.7.7"
  }
 },
 "nbformat": 4,
 "nbformat_minor": 4
}
