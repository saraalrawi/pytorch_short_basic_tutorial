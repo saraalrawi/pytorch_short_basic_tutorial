{
 "cells": [
  {
   "cell_type": "markdown",
   "metadata": {},
   "source": [
    "### Softmax and Cross Entropy\n",
    "\n",
    "Sofmax: squashes the output to be between zero and one. As a result we get probabilites.\n",
    "\n",
    "$ S(y_{i}) =\\frac{e^{y_{i}}}{\\sum e^{y_{j}}} $\n"
   ]
  },
  {
   "cell_type": "code",
   "execution_count": 3,
   "metadata": {},
   "outputs": [
    {
     "name": "stdout",
     "output_type": "stream",
     "text": [
      "The result of softmax[0.65900114 0.24243297 0.09856589]\n"
     ]
    }
   ],
   "source": [
    "# Implementation \n",
    "import torch \n",
    "import torch.nn as nn \n",
    "import numpy as np \n",
    "\n",
    "\n",
    "def softmax(x):\n",
    "    return np.exp(x) / np.sum(np.exp(x), axis=0)\n",
    "x = np.array([2.0 , 1.0 , 0.1])\n",
    "outputs = softmax(x)\n",
    "print('The result of softmax{}'.format(outputs))"
   ]
  },
  {
   "cell_type": "code",
   "execution_count": 5,
   "metadata": {},
   "outputs": [
    {
     "name": "stdout",
     "output_type": "stream",
     "text": [
      "The result of softmax tensor([0.6590, 0.2424, 0.0986])\n"
     ]
    }
   ],
   "source": [
    "# implementation in pytorch \n",
    "\n",
    "x = torch.tensor([2.0 , 1.0 , 0.1])\n",
    "outputs = torch.softmax(x, dim=0)\n",
    "print('The result of softmax {}'.format(outputs))"
   ]
  },
  {
   "cell_type": "markdown",
   "metadata": {},
   "source": [
    "### Cross Entropy Loss \n",
    "\n",
    "Multiclass classfication problem loss function. The better prediction is lower the loss. e.g. 0.35 better than 2.30. \n",
    "The y must be one hot encoded. \n",
    "$\\hat{y}$ is probability values. \n",
    "\n",
    "\n",
    "$ D(y,\\hat{y}) =-\\frac{1}{N}\\sum{Y_i} \\log(\\hat{Y_{i}})$\n"
   ]
  },
  {
   "cell_type": "code",
   "execution_count": 6,
   "metadata": {},
   "outputs": [
    {
     "name": "stdout",
     "output_type": "stream",
     "text": [
      "Loss 1:0.356675\n",
      "Loss 2:2.302585\n"
     ]
    }
   ],
   "source": [
    "def cross_entropy(actual, predicted):\n",
    "    loss = - np.sum(actual * np.log(predicted))\n",
    "    return loss # / float(predicted.shape[0]) normalization \n",
    "\n",
    "Y = np.array([1,0,0])\n",
    "\n",
    "Y_pred_good = np.array([0.7,0.2,0.1])\n",
    "Y_pred_bad = np.array([0.1,0.3,0.6])\n",
    "\n",
    "l1 = cross_entropy(Y,Y_pred_good)\n",
    "l2 = cross_entropy(Y,Y_pred_bad)\n",
    "\n",
    "print('Loss 1:{:4f}'.format(l1))\n",
    "print('Loss 2:{:4f}'.format(l2))"
   ]
  },
  {
   "cell_type": "code",
   "execution_count": 8,
   "metadata": {},
   "outputs": [
    {
     "name": "stdout",
     "output_type": "stream",
     "text": [
      "Loss 1:0.301824\n",
      "Loss 2:1.706927\n",
      "Prediction 1:tensor([2, 0, 1])\n",
      "Prediction 2:tensor([0, 2, 1])\n"
     ]
    }
   ],
   "source": [
    "# nn.CrossEntropyLoss applies nn.LogSoftmax + nn.NLLLoss --> no softmax layer. \n",
    "# Y should not be one hot encoded, we put just the class labels.\n",
    "# Y_pred has raw scores (logits) no sofmax here. \n",
    "\n",
    "# we can have 3 multiple classes, so Y must have 3 values \n",
    "\n",
    "loss = nn.CrossEntropyLoss()\n",
    "Y = torch.tensor([2,0,1]) # size nsample x nclasses\n",
    "Y_pred_good = torch.tensor([[0.1, 1.0, 2.1],[2.0, 1.0, 0.1],[0.1, 3.0, 0.1]]) # raw values \n",
    "Y_pred_bad = torch.tensor([[2.1, 1.0, 0.1],[0.1, 1.0, 2.1],[2.0, 3.0, 0.1]]) # raw values \n",
    "\n",
    "l1 = loss(Y_pred_good , Y)\n",
    "l2 = loss(Y_pred_bad, Y)\n",
    "\n",
    "print('Loss 1:{:4f}'.format(l1))\n",
    "print('Loss 2:{:4f}'.format(l2))\n",
    "\n",
    "_ , prediction_1 = torch.max(Y_pred_good, 1)\n",
    "_ , prediction_2 = torch.max(Y_pred_bad, 1)\n",
    "\n",
    "\n",
    "print('Prediction 1:{}'.format(prediction_1))\n",
    "print('Prediction 2:{}'.format(prediction_2))\n"
   ]
  },
  {
   "cell_type": "code",
   "execution_count": 9,
   "metadata": {},
   "outputs": [],
   "source": [
    "# NN with Softmax \n",
    "\n",
    "class NeuralNet2(nn.Module):\n",
    "    def __init__(self, input_size, hidden_size, num_classes):\n",
    "        super(NeuralNet2,self).__init__()\n",
    "        self.linear1 = nn.Linear(input_size, hidden_size)\n",
    "        self.relu = nn.ReLU()\n",
    "        self.linear2 = nn.Linear(hidden_size, num_classes)\n",
    "        # self.linear2 = nn.Linear(hidden_size, 1)\n",
    "    def forward(self, x):\n",
    "        out = self.linear1(x)\n",
    "        out = self.relu(out)\n",
    "        out = self.linear2(out)\n",
    "        # NO softmax at the end\n",
    "        #y_pred = torch.sigmoid(out)\n",
    "        return out \n",
    "model = NeuralNet2(input_size=28*28, hidden_size=5, num_classes=3)\n",
    "criterion = nn.CrossEntropyLoss() # (applies softmaxl)\n",
    "#criterion = nn.BCELoss() # (for binary classification)\n",
    "# in case of binary classification, then we must implement the sigmoid"
   ]
  },
  {
   "cell_type": "code",
   "execution_count": 10,
   "metadata": {},
   "outputs": [],
   "source": [
    "# Activation Functions \n",
    "# some of the functions are not available in the torch.nn, but available\n",
    "# in torch.nn.functional F.leaky_relu"
   ]
  },
  {
   "cell_type": "code",
   "execution_count": null,
   "metadata": {},
   "outputs": [],
   "source": []
  }
 ],
 "metadata": {
  "kernelspec": {
   "display_name": "Python 3",
   "language": "python",
   "name": "python3"
  },
  "language_info": {
   "codemirror_mode": {
    "name": "ipython",
    "version": 3
   },
   "file_extension": ".py",
   "mimetype": "text/x-python",
   "name": "python",
   "nbconvert_exporter": "python",
   "pygments_lexer": "ipython3",
   "version": "3.7.7"
  }
 },
 "nbformat": 4,
 "nbformat_minor": 4
}
