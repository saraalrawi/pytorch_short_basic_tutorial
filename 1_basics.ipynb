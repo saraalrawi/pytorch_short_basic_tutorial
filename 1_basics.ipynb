{
 "cells": [
  {
   "cell_type": "markdown",
   "metadata": {},
   "source": [
    "### Basics"
   ]
  },
  {
   "cell_type": "code",
   "execution_count": 18,
   "metadata": {},
   "outputs": [],
   "source": [
    "import torch"
   ]
  },
  {
   "cell_type": "code",
   "execution_count": 3,
   "metadata": {},
   "outputs": [
    {
     "data": {
      "text/plain": [
       "tensor([[[6.7061e+22, 2.1590e-04, 6.7441e-10],\n",
       "         [8.2649e+20, 2.6880e-06, 2.1159e-07]],\n",
       "\n",
       "        [[1.3002e+22, 6.7134e-07, 1.0616e+21],\n",
       "         [3.4332e-06, 4.2467e+21, 2.1180e+23]]])"
      ]
     },
     "execution_count": 3,
     "metadata": {},
     "output_type": "execute_result"
    }
   ],
   "source": [
    "x = torch.empty(2,2,3) # creating a tensor 2 dimentional, 2 x 3 \n",
    "x"
   ]
  },
  {
   "cell_type": "code",
   "execution_count": 4,
   "metadata": {},
   "outputs": [
    {
     "name": "stdout",
     "output_type": "stream",
     "text": [
      "torch.Size([2, 2, 3])\n",
      "torch.float32\n",
      "tensor([[0., 0., 0.],\n",
      "        [0., 0., 0.],\n",
      "        [0., 0., 0.],\n",
      "        [0., 0., 0.],\n",
      "        [0., 0., 0.]], dtype=torch.float16)\n",
      "torch.float16\n",
      "torch.Size([2])\n"
     ]
    }
   ],
   "source": [
    "# check size\n",
    "print(x.size())\n",
    "\n",
    "# check data type\n",
    "print(x.dtype)\n",
    "\n",
    "# specify types, float32 default\n",
    "x = torch.zeros(5, 3, dtype=torch.float16)\n",
    "print(x)\n",
    "\n",
    "# check type\n",
    "print(x.dtype)\n",
    "\n",
    "# construct from data\n",
    "x = torch.tensor([5.5, 3])\n",
    "print(x.size())"
   ]
  },
  {
   "cell_type": "code",
   "execution_count": 5,
   "metadata": {},
   "outputs": [
    {
     "data": {
      "text/plain": [
       "tensor([2, 4, 5, 7])"
      ]
     },
     "execution_count": 5,
     "metadata": {},
     "output_type": "execute_result"
    }
   ],
   "source": [
    "# List to tensor\n",
    "my_list = [2,4,5,7]\n",
    "t = torch.tensor(my_list)\n",
    "t"
   ]
  },
  {
   "cell_type": "code",
   "execution_count": 6,
   "metadata": {},
   "outputs": [
    {
     "name": "stdout",
     "output_type": "stream",
     "text": [
      "tensor([[1.5403, 1.0998],\n",
      "        [1.7716, 0.6487]])\n",
      "tensor([[2.2989, 1.3601],\n",
      "        [2.6520, 0.8981]])\n",
      "tensor([[2.2989, 1.3601],\n",
      "        [2.6520, 0.8981]])\n"
     ]
    },
    {
     "data": {
      "text/plain": [
       "tensor([[1.1685, 0.2862],\n",
       "        [1.5597, 0.1618]])"
      ]
     },
     "execution_count": 6,
     "metadata": {},
     "output_type": "execute_result"
    }
   ],
   "source": [
    "# Operations\n",
    "\n",
    "u = torch.rand(2,2)\n",
    "o = torch.rand(2,2)\n",
    "u.add_(o) # in place operation, every operation ends with _ is in place.\n",
    "print(u)\n",
    "#print(o)\n",
    "l_1 = u + o  #elementwise edition\n",
    "print(l_1)\n",
    "l_2 = torch.add(u,o)\n",
    "print(l_2)\n",
    "torch.mul(u,o)\n",
    "u.mul_(o) # in place operation, every function with _, in place. "
   ]
  },
  {
   "cell_type": "code",
   "execution_count": 8,
   "metadata": {},
   "outputs": [
    {
     "name": "stdout",
     "output_type": "stream",
     "text": [
      "tensor([[0.2281, 0.4573, 0.9780],\n",
      "        [0.7050, 0.0919, 0.7054],\n",
      "        [0.8904, 0.4137, 0.0152],\n",
      "        [0.8018, 0.0813, 0.1779],\n",
      "        [0.9780, 0.0605, 0.8127]])\n",
      "tensor([0.2281, 0.7050, 0.8904, 0.8018, 0.9780])\n",
      "tensor([0.7050, 0.0919, 0.7054])\n"
     ]
    }
   ],
   "source": [
    "# Create 5 x 3 tensor\n",
    "x = torch.rand(5 ,3)\n",
    "print(x)\n",
    "# slicing, get all rows but one cols \n",
    "print(x[:,0])\n",
    "print(x[1,:]) # second row and all cols "
   ]
  },
  {
   "cell_type": "code",
   "execution_count": 9,
   "metadata": {},
   "outputs": [
    {
     "name": "stdout",
     "output_type": "stream",
     "text": [
      "0.09192723035812378\n"
     ]
    }
   ],
   "source": [
    "print(x[1,1].item()) # gets the exact value if you have one element in your tensor. \n",
    " # without the item() function the return value is a tensor. "
   ]
  },
  {
   "cell_type": "code",
   "execution_count": 10,
   "metadata": {},
   "outputs": [
    {
     "name": "stdout",
     "output_type": "stream",
     "text": [
      "tensor([[0.4263, 0.2436, 0.2479, 0.2989],\n",
      "        [0.1207, 0.7850, 0.3067, 0.5707],\n",
      "        [0.0121, 0.9760, 0.1458, 0.8329],\n",
      "        [0.2884, 0.9296, 0.1506, 0.3856]])\n",
      "tensor([0.4263, 0.2436, 0.2479, 0.2989, 0.1207, 0.7850, 0.3067, 0.5707, 0.0121,\n",
      "        0.9760, 0.1458, 0.8329, 0.2884, 0.9296, 0.1506, 0.3856])\n",
      "torch.Size([2, 8])\n"
     ]
    }
   ],
   "source": [
    "# reshaping \n",
    "x = torch.rand(4,4)\n",
    "print(x)\n",
    "y = x.view(16) # 1 d vector \n",
    "print(y)\n",
    "k = x.view(-1,8) # -1 to determine the size, torch takes care of this thing. \n",
    "print(k.size())"
   ]
  },
  {
   "cell_type": "code",
   "execution_count": 11,
   "metadata": {},
   "outputs": [
    {
     "name": "stdout",
     "output_type": "stream",
     "text": [
      "tensor([1., 1., 1., 1., 1.])\n",
      "[2. 2. 2. 2. 2.]\n"
     ]
    }
   ],
   "source": [
    "# converting from a torch to numpy tensor vs. \n",
    "import numpy as np \n",
    "\n",
    "# create a tensor, be careful if you are on a cpu not a gpu both objects with share the same memory,\n",
    "# so changing one will change the other. \n",
    "a = torch.ones(5)\n",
    "print(a)\n",
    "b = a.numpy()\n",
    "#print(type(b))\n",
    "a.add_(1) # add one to each element, notice the b will change as well. \n",
    "#print(a)\n",
    "print(b)"
   ]
  },
  {
   "cell_type": "code",
   "execution_count": 12,
   "metadata": {},
   "outputs": [
    {
     "name": "stdout",
     "output_type": "stream",
     "text": [
      "[2. 2. 2. 2. 2.]\n",
      "tensor([2., 2., 2., 2., 2.], dtype=torch.float64)\n"
     ]
    }
   ],
   "source": [
    "# be careful! \n",
    "a = np.ones(5)\n",
    "b = torch.from_numpy(a)\n",
    "#print(b)\n",
    "\n",
    "a += 1\n",
    "print(a)\n",
    "print(b)"
   ]
  },
  {
   "cell_type": "code",
   "execution_count": 15,
   "metadata": {},
   "outputs": [
    {
     "name": "stdout",
     "output_type": "stream",
     "text": [
      "False\n"
     ]
    }
   ],
   "source": [
    "# check if cuda available \n",
    "\n",
    "if torch.cuda.is_available():\n",
    "    device = torch.device('cuda')\n",
    "    print(True)\n",
    "else:\n",
    "    device = torch.device('cpu')\n",
    "    print(False)"
   ]
  },
  {
   "cell_type": "code",
   "execution_count": 16,
   "metadata": {},
   "outputs": [],
   "source": [
    "m = torch.ones(5, device=device) # create and put the tensor on the gpu \n",
    "# or create the tensor then move to the gpu\n",
    "v = torch.ones(5)\n",
    "v = v.to(device)\n",
    "# if we do addition operation will be handled on gpu\n",
    "# z = m + v \n",
    "# numpy handles only cpu tensors. "
   ]
  },
  {
   "cell_type": "code",
   "execution_count": 17,
   "metadata": {},
   "outputs": [],
   "source": [
    "# by default all tensors are created on the CPU,\n",
    "# but you can also move them to the GPU (only if it's available )\n",
    "if torch.cuda.is_available():\n",
    "    device = torch.device(\"cuda\")          # a CUDA device object\n",
    "    y = torch.ones_like(x, device=device)  # directly create a tensor on GPU\n",
    "    x = x.to(device)                       # or just use strings ``.to(\"cuda\")``\n",
    "    z = x + y\n",
    "    # z = z.numpy() # not possible because numpy cannot handle GPU tenors\n",
    "    # move to CPU again\n",
    "    z.to(\"cpu\")       # ``.to`` can also change dtype together!\n",
    "    # z = z.numpy()"
   ]
  },
  {
   "cell_type": "code",
   "execution_count": null,
   "metadata": {},
   "outputs": [],
   "source": []
  }
 ],
 "metadata": {
  "kernelspec": {
   "display_name": "Python 3",
   "language": "python",
   "name": "python3"
  },
  "language_info": {
   "codemirror_mode": {
    "name": "ipython",
    "version": 3
   },
   "file_extension": ".py",
   "mimetype": "text/x-python",
   "name": "python",
   "nbconvert_exporter": "python",
   "pygments_lexer": "ipython3",
   "version": "3.7.7"
  }
 },
 "nbformat": 4,
 "nbformat_minor": 4
}
